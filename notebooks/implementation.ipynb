{
 "cells": [
  {
   "cell_type": "code",
   "execution_count": 1,
   "id": "4268a875-7eee-44e8-8843-3c972e8b6899",
   "metadata": {},
   "outputs": [],
   "source": [
    "# Importing the necessary packages\n",
    "from langchain_huggingface import HuggingFaceEmbeddings\n",
    "from langchain_community.document_loaders import PyMuPDFLoader\n",
    "from langchain_text_splitters import RecursiveCharacterTextSplitter\n",
    "from langchain_community.vectorstores import FAISS\n",
    "from langchain.chains import RetrievalQA\n",
    "import textwrap"
   ]
  },
  {
   "cell_type": "code",
   "execution_count": 2,
   "id": "aa2561dc-9ae8-4ef5-b240-5e498e8109ef",
   "metadata": {},
   "outputs": [],
   "source": [
    "# Load multiple PDFs into a list of documents\n",
    "def load_pdfs(file_paths):\n",
    "    all_docs = []\n",
    "    for file_path in file_paths:\n",
    "        loader = PyMuPDFLoader(file_path=file_path)\n",
    "        docs = loader.load()\n",
    "        all_docs.extend(docs)  # Add documents from each PDF to the combined list\n",
    "    return all_docs"
   ]
  },
  {
   "cell_type": "code",
   "execution_count": 3,
   "id": "939075c9-3446-42ed-b436-f0840c0995f7",
   "metadata": {},
   "outputs": [],
   "source": [
    "# Responsible for splitting the documents into several chunks\n",
    "def split_docs(documents, chunk_size=1000, chunk_overlap=20):\n",
    "\n",
    "    # Initializing the RecursiveCharacterTextSplitter with\n",
    "    # chunk_size and chunk_overlap\n",
    "    text_splitter = RecursiveCharacterTextSplitter(\n",
    "        chunk_size=chunk_size,\n",
    "        chunk_overlap=chunk_overlap\n",
    "    )\n",
    "\n",
    "    # Splitting the documents into chunks\n",
    "    chunks = text_splitter.split_documents(documents=documents)\n",
    "\n",
    "    # returning the document chunks\n",
    "    return chunks"
   ]
  },
  {
   "cell_type": "code",
   "execution_count": 4,
   "id": "21b47eb4-e5cc-409b-a65a-e739f8402a39",
   "metadata": {},
   "outputs": [],
   "source": [
    "# function for loading the embedding model\n",
    "def load_embedding_model(model_path, normalize_embedding=True):\n",
    "    return HuggingFaceEmbeddings(\n",
    "        model_name=model_path,\n",
    "        model_kwargs={'device':'cpu'}, # here we will run the model with CPU only\n",
    "        encode_kwargs = {\n",
    "            'normalize_embeddings': normalize_embedding # keep True to compute cosine similarity\n",
    "        }\n",
    "    )"
   ]
  },
  {
   "cell_type": "code",
   "execution_count": 5,
   "id": "1b44e283-63a2-4cd6-b641-9515fad35643",
   "metadata": {},
   "outputs": [],
   "source": [
    "# Function for creating embeddings using FAISS\n",
    "def create_embeddings(chunks, embedding_model, storing_path=\"vectorstore\"):\n",
    "    # Creating the embeddings using FAISS\n",
    "    vectorstore = FAISS.from_documents(chunks, embedding_model)\n",
    "\n",
    "    # Saving the model in current directory\n",
    "    vectorstore.save_local(storing_path)\n",
    "\n",
    "    # returning the vectorstore\n",
    "    return vectorstore"
   ]
  },
  {
   "cell_type": "code",
   "execution_count": 6,
   "id": "1b9cfe1f-40c0-45e8-a91c-425735b25e46",
   "metadata": {},
   "outputs": [],
   "source": [
    "# Creating the chain for Question Answering\n",
    "def load_qa_chain(retriever, llm, prompt):\n",
    "    return RetrievalQA.from_chain_type(\n",
    "        llm=llm,\n",
    "        retriever=retriever, # here we are using the vectorstore as a retriever\n",
    "        chain_type=\"stuff\",\n",
    "        return_source_documents=True, # including source documents in output\n",
    "        chain_type_kwargs={'prompt': prompt} # customizing the prompt\n",
    "    )"
   ]
  },
  {
   "cell_type": "code",
   "execution_count": 7,
   "id": "a64185b1-b0ce-4e3f-ac05-a93a294c4220",
   "metadata": {},
   "outputs": [],
   "source": [
    "# Prettifying the response\n",
    "def get_response(query, chain):\n",
    "    # Getting response from chain\n",
    "    response = chain.invoke({'query': query})\n",
    "    \n",
    "    # Wrapping the text for better output in Jupyter Notebook\n",
    "    wrapped_text = textwrap.fill(response['result'], width=100)\n",
    "    print(response['result'])"
   ]
  },
  {
   "cell_type": "markdown",
   "id": "46ab08cf-efbb-41e0-8153-6bd787b4d5c1",
   "metadata": {},
   "source": [
    "## Implementation"
   ]
  },
  {
   "cell_type": "code",
   "execution_count": 8,
   "id": "a8d90e0d-0ceb-416d-9ec2-6fd984edac5e",
   "metadata": {},
   "outputs": [],
   "source": [
    "from langchain_ollama.llms import OllamaLLM\n",
    "from langchain import PromptTemplate"
   ]
  },
  {
   "cell_type": "code",
   "execution_count": 9,
   "id": "97270ade-5882-4086-944a-e969155dac16",
   "metadata": {},
   "outputs": [],
   "source": [
    "# llm = OllamaLLM(model=\"orca-mini\", temperature=0)"
   ]
  },
  {
   "cell_type": "code",
   "execution_count": 10,
   "id": "18b0c917-42d4-4171-84d2-e77854aa063d",
   "metadata": {},
   "outputs": [],
   "source": [
    "llm = OllamaLLM(model=\"llama3.2\", temperature=0)"
   ]
  },
  {
   "cell_type": "code",
   "execution_count": 11,
   "id": "9aac8759-7a00-4cc5-9907-b6620a8f2c96",
   "metadata": {},
   "outputs": [],
   "source": [
    "# llm = OllamaLLM(model=\"mistral\", temperature=0)"
   ]
  },
  {
   "cell_type": "code",
   "execution_count": 12,
   "id": "9af3c235-db6b-4b9f-8bb8-acc05133cd3d",
   "metadata": {},
   "outputs": [],
   "source": [
    "# embed = load_embedding_model(model_path=\"all-MiniLM-L6-v2\")\n",
    "embed = load_embedding_model(model_path=\"sentence-transformers/all-mpnet-base-v2\")\n",
    "# embed = load_embedding_model(model_path=\"sentence-transformers/multi-qa-mpnet-base-dot-v1\")"
   ]
  },
  {
   "cell_type": "code",
   "execution_count": 13,
   "id": "3df3a966-325b-4797-aeb8-d3311713250e",
   "metadata": {},
   "outputs": [],
   "source": [
    "file_paths = [\n",
    "    \"./docs/rodtep_guidelines-output.pdf\",\n",
    "    \"./docs/Drawback-Rates.pdf\",\n",
    "    \"./docs/furniture_tv.pdf\",\n",
    "]\n",
    "docs = load_pdfs(file_paths=file_paths)"
   ]
  },
  {
   "cell_type": "code",
   "execution_count": 14,
   "id": "a0a690d9-0e00-4ec8-a0a7-870e5dcb351d",
   "metadata": {},
   "outputs": [],
   "source": [
    "documents = split_docs(documents=docs)\n",
    "\n",
    "# creating vectorstore\n",
    "vectorstore = create_embeddings(documents, embed)\n",
    "\n",
    "# converting vectorstore to a retriever\n",
    "retriever = vectorstore.as_retriever()"
   ]
  },
  {
   "cell_type": "code",
   "execution_count": 15,
   "id": "54e65b3a-e680-4aee-aaf1-9bea42856f14",
   "metadata": {},
   "outputs": [],
   "source": [
    "# Creating the prompt from the template which we created before\n",
    "prompt = PromptTemplate.from_template(\"\"\"\n",
    "### System:\n",
    "You are an respectful and honest assistant. You have to answer the user's \\\n",
    "questions using only the context provided to you. If you don't know the answer, \\\n",
    "please think rationally and answer from your own knowledge base\n",
    "\n",
    "### Context:\n",
    "{context}\n",
    "\n",
    "### User:\n",
    "{question}\n",
    "\n",
    "### Response:\n",
    "\"\"\")\n",
    "\n",
    "# Creating the chain\n",
    "chain = load_qa_chain(retriever, llm, prompt)"
   ]
  },
  {
   "cell_type": "code",
   "execution_count": 16,
   "id": "e6f79bb9-fdce-4c8b-af39-026fbdd5582d",
   "metadata": {},
   "outputs": [
    {
     "name": "stdout",
     "output_type": "stream",
     "text": [
      "I'd be happy to explain the Kaplan-Meier Survival Curve.\n",
      "\n",
      "The Kaplan-Meier Survival Curve is a graphical representation of the survival probability of subjects in a study over time, typically used in medical research and statistics. It's named after Edwin Kaplan and Maurice Meier, who first described it in 1958.\n",
      "\n",
      "The curve shows the proportion of patients who have not experienced an event (such as death, relapse, or recurrence) at different time points. The x-axis represents time, and the y-axis represents the survival probability.\n",
      "\n",
      "Here's how it works:\n",
      "\n",
      "1. **Censoring**: In a study, some participants may still be alive at the end of the observation period, but their outcome status (e.g., dead or alive) is not known. These participants are said to be censored.\n",
      "2. **Event occurrence**: When an event occurs (e.g., death), the participant's survival time is recorded as the time of event occurrence.\n",
      "3. **Kaplan-Meier estimation**: The Kaplan-Meier estimator calculates the survival probability at each time point by considering only the participants who have not experienced the event up to that point.\n",
      "\n",
      "The resulting curve shows:\n",
      "\n",
      "* **Survival probability**: The proportion of participants still alive at a given time point.\n",
      "* **Hazard function**: The rate at which events occur, which can be inferred from the shape and slope of the curve.\n",
      "\n",
      "Interpretation of the Kaplan-Meier Survival Curve:\n",
      "\n",
      "* A straight line indicates that the hazard rate is constant over time.\n",
      "* An increasing curve suggests an increasing risk of event occurrence over time.\n",
      "* A decreasing curve indicates a decreasing risk of event occurrence over time.\n",
      "* The x-intercept represents the median survival time.\n",
      "\n",
      "The Kaplan-Meier Survival Curve provides valuable insights into the distribution of survival times and helps researchers understand the relationship between various factors (e.g., treatment, age, or disease severity) and patient outcomes.\n"
     ]
    }
   ],
   "source": [
    "get_response(\"Explain the Kaplan–Meier Survival Curve\", chain)"
   ]
  },
  {
   "cell_type": "code",
   "execution_count": 17,
   "id": "8f3ef102-4d6c-437a-bce3-b952e4380156",
   "metadata": {},
   "outputs": [
    {
     "name": "stdout",
     "output_type": "stream",
     "text": [
      "The RoDTEP (Remission of Duties and Taxes on Exported Products) Scheme is a government initiative aimed at refunding duties and taxes levied on exported products. Here's an overview of the guidelines:\n",
      "\n",
      "**Objective:**\n",
      "The primary objective of the RoDTEP Scheme is to refund duties and taxes borne by exporters, including prior stage cumulative indirect taxes on goods and services used in production.\n",
      "\n",
      "**Eligibility:**\n",
      "The scheme is available for exports made by categories mentioned in para 4.55 (x), (xi), and (xii) above.\n",
      "\n",
      "**Rebate Nature:**\n",
      "The rebate under the RoDTEP Scheme will be used only for payment of duty of Customs leviable under the First Schedule to the Customs Tariff Act, 1975, specifically Basic Customs Duty.\n",
      "\n",
      "**Scheme Structure:**\n",
      "\n",
      "1. **Output-Outcome Framework:** A broad-level monitoring framework will be maintained and monitored at regular intervals.\n",
      "2. **Risk Management System (RMS):** An IT-based RMS will be implemented by the Central Board of Indirect Taxes and Customs (CBIC), Department of Revenue, to physically verify records on a sample basis.\n",
      "3. **Inter-Ministerial Committee:** A committee named \"RoDTEP Policy Committee (RPC)\" will be formed to consider residual issues arising under the scheme. The committee will comprise members from the Department of Commerce and Department of Revenue.\n",
      "\n",
      "**Decision-Making:**\n",
      "\n",
      "1. **Ceiling Rates:** Ceiling rates for eligible items will be determined by a Committee in the Department of Revenue/Drawback Division, with representation from various line ministries and experts.\n",
      "2. **Inclusion/Exclusion:** The Appendix 4R containing eligible RoDTEP export items, rates, and per unit value will be updated at a later date.\n",
      "\n",
      "**Budgeting:**\n",
      "The overall budget for the RoDTEP Scheme will be finalized by the Ministry of Finance in consultation with the Department of Commerce (DoC), taking into account relevant factors. The scheme will operate within a budgetary framework for each financial year, with necessary calibrations and revisions made as required.\n",
      "\n",
      "**Key Principles:**\n",
      "\n",
      "1. **No provision for remission of arrears or contingent liabilities is permissible under the Scheme to be carried over to the next financial year.**\n",
      "2. **The sequence of introduction of the Scheme across sectors will be prioritized by the Department of Commerce and Department of Revenue.**\n",
      "3. **The degree of benefit to be given on various items within the rates set by the Committee will be determined based on recommendations from the RoDTEP Committee.**\n",
      "\n",
      "These guidelines outline the key principles, structure, and decision-making processes for the RoDTEP Scheme, aiming to provide a refund mechanism for exporters while ensuring transparency and accountability.\n"
     ]
    }
   ],
   "source": [
    "get_response(\"Explain the RDOTEP Guidelines\", chain)"
   ]
  },
  {
   "cell_type": "code",
   "execution_count": 18,
   "id": "6d655825-266c-4ba8-9105-1fe41eac3012",
   "metadata": {},
   "outputs": [
    {
     "name": "stdout",
     "output_type": "stream",
     "text": [
      "As an assistant, I'll provide you with general guidance on what to keep in mind while exporting electronics, based on the context provided. Please note that specific regulations and requirements may vary depending on the destination country and product specifications.\n",
      "\n",
      "When exporting electronics, here are some key things to consider:\n",
      "\n",
      "1. **Compliance with Regulations**: Ensure your products comply with relevant regulations, such as those mentioned in the context (e.g., CARB, EPA, ASTM). Research and understand the specific requirements for your product category.\n",
      "2. **Labeling and Declaration**: Familiarize yourself with labeling requirements, such as the Federal Hazardous Substances Act (FHSA) label. Declare any hazardous materials or substances used in your products accurately and truthfully.\n",
      "3. **Export Documentation**: Ensure you have accurate and complete export documentation, including commercial invoices, packing lists, and certificates of origin. Verify that electronic documentation is generated using ICEGATE EDI if required.\n",
      "4. **Product Safety Standards**: Adhere to product safety standards, such as those set by the California Air Resources Board (CARB) or other relevant authorities.\n",
      "5. **Environmental Considerations**: Be mindful of environmental impact and consider eco-friendly packaging, labeling, and disposal options for your products.\n",
      "6. **Customs Clearance**: Understand the customs clearance process and requirements for your destination country, including any necessary permits or licenses.\n",
      "7. **Product Testing and Certification**: Ensure your products meet relevant testing and certification standards, such as those set by ASTM or other recognized organizations.\n",
      "8. **Regulatory Compliance in Destination Country**: Research and understand the regulatory environment in your destination country, including any specific requirements for electronics exports.\n",
      "\n",
      "Please note that this is not an exhaustive list, and you should consult with relevant authorities, experts, or trade associations to ensure compliance with all applicable regulations and requirements.\n",
      "\n",
      "If you have any further questions or concerns, feel free to ask!\n"
     ]
    }
   ],
   "source": [
    "get_response(\"What are some of the things I have to keep in mind while exporting electronics\", chain)"
   ]
  },
  {
   "cell_type": "code",
   "execution_count": 19,
   "id": "89037cc2-5b04-482e-babe-b302e7b2416d",
   "metadata": {},
   "outputs": [
    {
     "name": "stdout",
     "output_type": "stream",
     "text": [
      "Based on the context provided, it appears that you are referring to exporting an Apple iPhone mobile from India to the USA.\n",
      "\n",
      "According to the information available, Apple iPhones manufactured in India would fall under the category of products manufactured partly or wholly in India under Section 65 of the Customs Act, 1962.\n",
      "\n",
      "As per the Foreign Trade Policy, export of such products is subject to various regulations and requirements. However, I couldn't find specific information on the export procedures for Apple iPhones from India to the USA.\n",
      "\n",
      "To determine the correct export documentation, sampling procedures, and record-keeping requirements for your Apple iPhone mobile, I would recommend checking with the Central Board of Indirect Taxes and Customs (CBIC) or the Directorate General of Foreign Trade (DGFT), which are responsible for regulating exports in India. They may be able to provide you with more specific guidance on the necessary procedures and documentation required for exporting an Apple iPhone mobile from India to the USA.\n",
      "\n",
      "Additionally, it's worth noting that Apple iPhones manufactured in India would likely fall under the category of \"Export Oriented Unit (EOU)\" or \"Free Trade Zone\" products, which are subject to different regulations and requirements. However, without more specific information on your product and its manufacturing location, I couldn't provide a definitive answer.\n",
      "\n",
      "I recommend consulting with a trade expert or a customs broker who can provide you with more detailed guidance on the export procedures and documentation required for your Apple iPhone mobile.\n"
     ]
    }
   ],
   "source": [
    "get_response(\"What if i want to export a apple iphone mobile to USA\", chain)"
   ]
  },
  {
   "cell_type": "code",
   "execution_count": 20,
   "id": "9ecbf177-8869-4ad0-9f3e-d09d5725c498",
   "metadata": {},
   "outputs": [
    {
     "name": "stdout",
     "output_type": "stream",
     "text": [
      "If you want to export furniture, there are several requirements and regulations you need to be aware of:\n",
      "\n",
      "1. **Registration with EPA**: If your furniture contains any antimicrobial textile or other pesticide-related characteristics, it must be registered with the Environmental Protection Agency (EPA).\n",
      "2. **TSCA Compliance**: As a manufacturer of wooden products, you are required to comply with the formaldehyde emission limits established by the Toxic Substances Control Act (TSCA) Title VI. You need to conduct testing of your product through a CPSCA-affiliated lab and obtain a certificate from the Importer on Record.\n",
      "3. **Customs Regulations**: Depending on the type of furniture you are exporting, there may be specific categories that apply to it. For example:\n",
      "\t* Wooden frames for paintings, photographs, mirrors, or similar objects (4414) fall under 1.3% duty rate.\n",
      "\t* Packing cases, boxes, crates, drums, and similar packings of wood; cable-drums of wood; pallets, box pallets, and other load boards of wood; pallet collars of wood (4415) fall under 1.9% duty rate.\n",
      "\t* Casks, barrels, vats, tubs, and other coopers' products and parts thereof, of wood, including staves (4416) also fall under 1.3% duty rate.\n",
      "\t* Tools, tool bodies, tool handles, broom or brush bodies and handles, of wood; boot or shoe lasts and trees, of wood (4417) fall under 1.3% duty rate.\n",
      "\t* Builders' joinery and carpentry of wood, including cellular wood panels, assembled flooring panels, shingles, and shakes (4418) also fall under 1.3% duty rate.\n",
      "\t* Tableware and kitchenware, of wood (4419) fall under 1.9% duty rate.\n",
      "4. **Export Obligations**: If your furniture is manufactured or exported without an Advance Authorization or Duty Free Import Authorization or Special Advance Authorization issued under a relevant Foreign Trade Policy, it may be subject to export obligations.\n",
      "\n",
      "It's essential to note that these regulations and rates are subject to change, and you should verify the information with the relevant authorities before exporting your furniture. Additionally, if you're unsure about any of the requirements or categories, you can consult with a customs broker or trade expert to ensure compliance.\n"
     ]
    }
   ],
   "source": [
    "get_response(\"What if i want to export furniture\", chain)"
   ]
  },
  {
   "cell_type": "code",
   "execution_count": 21,
   "id": "0e9d5fbd-811a-4486-93de-6ca5a89906e1",
   "metadata": {},
   "outputs": [
    {
     "name": "stdout",
     "output_type": "stream",
     "text": [
      "Based on the provided context, here is a checklist for exporting furniture:\n",
      "\n",
      "**Pre-Export Compliance Requirements:**\n",
      "\n",
      "1. **Check product classification**: Ensure that your furniture falls under one of the following categories and complies with the relevant regulations:\n",
      "\t* 4414: Wooden frames for paintings, photographs, mirrors or similar objects\n",
      "\t* 4415: Packing cases, boxes, crates, drums and similar packings, of wood; cable-drums of wood; pallets, box pallets and other load boards, of wood; pallet collars of wood\n",
      "\t* 4416: Casks, barrels, vats, tubs and other coopers' products and parts thereof, of wood, including staves\n",
      "\t* 4417: Tools, tool bodies, tool handles, broom or brush bodies and handles, of wood; boot or shoe lasts and trees, of wood\n",
      "\t* 4418: Builders’ joinery and carpentry of wood, including cellular wood panels, assembled flooring panels, Shingles and shakes\n",
      "\t* 4419: Tableware and kitchenware, of wood\n",
      "2. **Check for antimicrobial textile or pesticide-related characteristics**: If your furniture contains any such features, it must be registered with the Environmental Protection Agency (EPA).\n",
      "3. **Comply with TSCA Title VI formaldehyde emission limits**: Manufacturers are required to conduct testing through a CPSCA affiliated lab and obtain a certificate from the Importer on Record.\n",
      "4. **Check for flame retardant chemicals**: If your furniture contains 1.3% or more of certain flame retardant chemicals, it may be subject to regulations in many states in the USA.\n",
      "\n",
      "**Export Documentation Requirements:**\n",
      "\n",
      "1. **Declare product composition**: Provide accurate information about the product's composition, including any antimicrobial textile or pesticide-related characteristics.\n",
      "2. **Provide a declaration**: The exporter must provide a declaration stating that the product complies with all relevant regulations and labeling requirements.\n",
      "3. **Obtain necessary certifications**: Ensure that you have obtained any necessary certifications, such as the certificate from the Importer on Record.\n",
      "\n",
      "**Additional Requirements:**\n",
      "\n",
      "1. **Check for hazardous substances**: If your furniture contains hazardous substances, it must bear a cautionary labeling warning consumers of the hazard(s) associated with its use.\n",
      "2. **Comply with FHSA regulations**: Household products that meet the definition of hazardous under the Federal Hazardous Substances Act (FHSA) must bear a cautionary labeling.\n",
      "\n",
      "**Disclaimer:**\n",
      "\n",
      "Please note that this checklist is not exhaustive and may not cover all applicable regulations. It is recommended to consult with relevant authorities, experts, or attorneys to ensure compliance with all requirements.\n"
     ]
    }
   ],
   "source": [
    "get_response(\"Give me a checklist if i want to export furniture\", chain)"
   ]
  },
  {
   "cell_type": "code",
   "execution_count": 24,
   "id": "6187a844-3216-40f8-ab6b-f71ad7c753b1",
   "metadata": {},
   "outputs": [
    {
     "name": "stdout",
     "output_type": "stream",
     "text": [
      "Based on the provided tariff item information, I found that there is no specific tariff item for \"Furniture\" as a whole category. However, some related items have their own tariff rates.\n",
      "\n",
      "For example:\n",
      "\n",
      "* Mattress supports (9404) has a rate of 1.3%.\n",
      "* Pillow/Cushions/Quilts/Pouffles made of cotton fabric filled with poly-fil (940401) has a rate of 2.8% per kg.\n",
      "* Bed linen, table linen, toilet linen and kitchen linen (6302) has rates ranging from 2.6% to 3.5% per kg for different types of fabrics.\n",
      "\n",
      "If you're looking for the overall rate for furniture, I couldn't find a specific tariff item that covers this category as a whole. If you have more information or context about the type of furniture you're referring to, I may be able to provide a more accurate answer.\n"
     ]
    }
   ],
   "source": [
    "get_response(\"What are the rates for furniture?\", chain)"
   ]
  },
  {
   "cell_type": "code",
   "execution_count": 23,
   "id": "cef7a195-e449-43ea-8027-a5d41e99ffb0",
   "metadata": {},
   "outputs": [
    {
     "name": "stdout",
     "output_type": "stream",
     "text": [
      "There are two tariff items with rates mentioned:\n",
      "\n",
      "1. For Tariff Item 41, the rate is 1.3%.\n",
      "2. For Tariff Item 162, the rate is also 1.3%.\n",
      "\n",
      "Please note that these rates apply to specific descriptions of goods and may have additional conditions or limitations.\n"
     ]
    }
   ],
   "source": [
    "get_response(\"What are the rates?\", chain)"
   ]
  }
 ],
 "metadata": {
  "kernelspec": {
   "display_name": "Python 3 (ipykernel)",
   "language": "python",
   "name": "python3"
  },
  "language_info": {
   "codemirror_mode": {
    "name": "ipython",
    "version": 3
   },
   "file_extension": ".py",
   "mimetype": "text/x-python",
   "name": "python",
   "nbconvert_exporter": "python",
   "pygments_lexer": "ipython3",
   "version": "3.12.7"
  }
 },
 "nbformat": 4,
 "nbformat_minor": 5
}
