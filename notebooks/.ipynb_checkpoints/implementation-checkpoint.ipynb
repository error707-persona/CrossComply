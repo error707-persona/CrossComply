{
 "cells": [
  {
   "cell_type": "code",
   "execution_count": 1,
   "id": "4268a875-7eee-44e8-8843-3c972e8b6899",
   "metadata": {},
   "outputs": [],
   "source": [
    "# Importing the necessary packages\n",
    "from langchain_huggingface import HuggingFaceEmbeddings\n",
    "from langchain_community.document_loaders import PyMuPDFLoader\n",
    "from langchain_text_splitters import RecursiveCharacterTextSplitter\n",
    "from langchain_community.vectorstores import FAISS\n",
    "from langchain.chains import RetrievalQA\n",
    "import textwrap"
   ]
  },
  {
   "cell_type": "code",
   "execution_count": 2,
   "id": "aa2561dc-9ae8-4ef5-b240-5e498e8109ef",
   "metadata": {},
   "outputs": [],
   "source": [
    "# Load multiple PDFs into a list of documents\n",
    "def load_pdfs(file_paths):\n",
    "    all_docs = []\n",
    "    for file_path in file_paths:\n",
    "        loader = PyMuPDFLoader(file_path=file_path)\n",
    "        docs = loader.load()\n",
    "        all_docs.extend(docs)  # Add documents from each PDF to the combined list\n",
    "    return all_docs"
   ]
  },
  {
   "cell_type": "code",
   "execution_count": 3,
   "id": "939075c9-3446-42ed-b436-f0840c0995f7",
   "metadata": {},
   "outputs": [],
   "source": [
    "# Responsible for splitting the documents into several chunks\n",
    "def split_docs(documents, chunk_size=1000, chunk_overlap=20):\n",
    "\n",
    "    # Initializing the RecursiveCharacterTextSplitter with\n",
    "    # chunk_size and chunk_overlap\n",
    "    text_splitter = RecursiveCharacterTextSplitter(\n",
    "        chunk_size=chunk_size,\n",
    "        chunk_overlap=chunk_overlap\n",
    "    )\n",
    "\n",
    "    # Splitting the documents into chunks\n",
    "    chunks = text_splitter.split_documents(documents=documents)\n",
    "\n",
    "    # returning the document chunks\n",
    "    return chunks"
   ]
  },
  {
   "cell_type": "code",
   "execution_count": 4,
   "id": "21b47eb4-e5cc-409b-a65a-e739f8402a39",
   "metadata": {},
   "outputs": [],
   "source": [
    "# function for loading the embedding model\n",
    "def load_embedding_model(model_path, normalize_embedding=True):\n",
    "    return HuggingFaceEmbeddings(\n",
    "        model_name=model_path,\n",
    "        model_kwargs={'device':'cpu'}, # here we will run the model with CPU only\n",
    "        encode_kwargs = {\n",
    "            'normalize_embeddings': normalize_embedding # keep True to compute cosine similarity\n",
    "        }\n",
    "    )"
   ]
  },
  {
   "cell_type": "code",
   "execution_count": 5,
   "id": "1b44e283-63a2-4cd6-b641-9515fad35643",
   "metadata": {},
   "outputs": [],
   "source": [
    "# Function for creating embeddings using FAISS\n",
    "def create_embeddings(chunks, embedding_model, storing_path=\"vectorstore\"):\n",
    "    # Creating the embeddings using FAISS\n",
    "    vectorstore = FAISS.from_documents(chunks, embedding_model)\n",
    "\n",
    "    # Saving the model in current directory\n",
    "    vectorstore.save_local(storing_path)\n",
    "\n",
    "    # returning the vectorstore\n",
    "    return vectorstore"
   ]
  },
  {
   "cell_type": "code",
   "execution_count": 6,
   "id": "1b9cfe1f-40c0-45e8-a91c-425735b25e46",
   "metadata": {},
   "outputs": [],
   "source": [
    "# Creating the chain for Question Answering\n",
    "def load_qa_chain(retriever, llm, prompt):\n",
    "    return RetrievalQA.from_chain_type(\n",
    "        llm=llm,\n",
    "        retriever=retriever, # here we are using the vectorstore as a retriever\n",
    "        chain_type=\"stuff\",\n",
    "        return_source_documents=True, # including source documents in output\n",
    "        chain_type_kwargs={'prompt': prompt} # customizing the prompt\n",
    "    )"
   ]
  },
  {
   "cell_type": "code",
   "execution_count": 37,
   "id": "a64185b1-b0ce-4e3f-ac05-a93a294c4220",
   "metadata": {},
   "outputs": [],
   "source": [
    "# Prettifying the response\n",
    "def get_response(query, chain):\n",
    "    # Getting response from chain\n",
    "    response = chain.invoke({'query': query})\n",
    "    \n",
    "    # Wrapping the text for better output in Jupyter Notebook\n",
    "    wrapped_text = textwrap.fill(response['result'], width=100)\n",
    "    print(response['result'])"
   ]
  },
  {
   "cell_type": "markdown",
   "id": "46ab08cf-efbb-41e0-8153-6bd787b4d5c1",
   "metadata": {},
   "source": [
    "## Implementation"
   ]
  },
  {
   "cell_type": "code",
   "execution_count": 8,
   "id": "a8d90e0d-0ceb-416d-9ec2-6fd984edac5e",
   "metadata": {},
   "outputs": [],
   "source": [
    "from langchain_ollama.llms import OllamaLLM\n",
    "from langchain import PromptTemplate"
   ]
  },
  {
   "cell_type": "code",
   "execution_count": 9,
   "id": "97270ade-5882-4086-944a-e969155dac16",
   "metadata": {},
   "outputs": [],
   "source": [
    "# llm = OllamaLLM(model=\"orca-mini\", temperature=0)"
   ]
  },
  {
   "cell_type": "code",
   "execution_count": 10,
   "id": "18b0c917-42d4-4171-84d2-e77854aa063d",
   "metadata": {},
   "outputs": [],
   "source": [
    "llm = OllamaLLM(model=\"llama3.2\", temperature=0)"
   ]
  },
  {
   "cell_type": "code",
   "execution_count": 11,
   "id": "9aac8759-7a00-4cc5-9907-b6620a8f2c96",
   "metadata": {},
   "outputs": [],
   "source": [
    "# llm = OllamaLLM(model=\"mistral\", temperature=0)"
   ]
  },
  {
   "cell_type": "code",
   "execution_count": 12,
   "id": "9af3c235-db6b-4b9f-8bb8-acc05133cd3d",
   "metadata": {},
   "outputs": [],
   "source": [
    "# embed = load_embedding_model(model_path=\"all-MiniLM-L6-v2\")\n",
    "embed = load_embedding_model(model_path=\"sentence-transformers/all-mpnet-base-v2\")\n",
    "# embed = load_embedding_model(model_path=\"sentence-transformers/multi-qa-mpnet-base-dot-v1\")"
   ]
  },
  {
   "cell_type": "code",
   "execution_count": 27,
   "id": "3df3a966-325b-4797-aeb8-d3311713250e",
   "metadata": {},
   "outputs": [],
   "source": [
    "file_paths = [\n",
    "    \"./docs/rodtep_guidelines-output.pdf\",\n",
    "    \"./docs/Drawback-Rates.pdf\",\n",
    "    \"./docs/furniture_tv.pdf\",\n",
    "]\n",
    "docs = load_pdfs(file_paths=file_paths)"
   ]
  },
  {
   "cell_type": "code",
   "execution_count": 28,
   "id": "a0a690d9-0e00-4ec8-a0a7-870e5dcb351d",
   "metadata": {},
   "outputs": [],
   "source": [
    "documents = split_docs(documents=docs)\n",
    "\n",
    "# creating vectorstore\n",
    "vectorstore = create_embeddings(documents, embed)\n",
    "\n",
    "# converting vectorstore to a retriever\n",
    "retriever = vectorstore.as_retriever()"
   ]
  },
  {
   "cell_type": "code",
   "execution_count": 29,
   "id": "54e65b3a-e680-4aee-aaf1-9bea42856f14",
   "metadata": {},
   "outputs": [],
   "source": [
    "# Creating the prompt from the template which we created before\n",
    "prompt = PromptTemplate.from_template(\"\"\"\n",
    "### System:\n",
    "You are an respectful and honest assistant. You have to answer the user's \\\n",
    "questions using only the context provided to you. If you don't know the answer, \\\n",
    "please think rationally and answer from your own knowledge base\n",
    "\n",
    "### Context:\n",
    "{context}\n",
    "\n",
    "### User:\n",
    "{question}\n",
    "\n",
    "### Response:\n",
    "\"\"\")\n",
    "\n",
    "# Creating the chain\n",
    "chain = load_qa_chain(retriever, llm, prompt)"
   ]
  },
  {
   "cell_type": "code",
   "execution_count": 16,
   "id": "e6f79bb9-fdce-4c8b-af39-026fbdd5582d",
   "metadata": {},
   "outputs": [
    {
     "name": "stdout",
     "output_type": "stream",
     "text": [
      "I don't know. The provided text does not mention the Kaplan-Meier Survival Curve. It appears to be\n",
      "related to a trade scheme and export regulations, but it doesn't provide information on statistical\n",
      "concepts or methodologies like the Kaplan-Meier Survival Curve. If you could provide more context or\n",
      "clarify what you're looking for, I'd be happy to try and help further.\n"
     ]
    }
   ],
   "source": [
    "get_response(\"Explain the Kaplan–Meier Survival Curve\", chain)"
   ]
  },
  {
   "cell_type": "code",
   "execution_count": 17,
   "id": "8f3ef102-4d6c-437a-bce3-b952e4380156",
   "metadata": {},
   "outputs": [
    {
     "name": "stdout",
     "output_type": "stream",
     "text": [
      "Based on the provided context, here's an explanation of the RoDTEP (Remission of Duties and Taxes on\n",
      "Exported Products) guidelines:  The RoDTEP scheme aims to refund duties and taxes borne on exported\n",
      "products, including prior stage cumulative indirect taxes. The guidelines have several key aspects:\n",
      "1. **Objective**: Refund un-refunded duties and taxes on exported products. 2. **Eligible items**:\n",
      "Exports made by categories mentioned in para 4.55 (x), (xi), and (xii) above will be included, with\n",
      "RoDTEP rates decided based on the recommendations of the RoDTEP Committee. 3. **Rebate nature**:\n",
      "E-scrips will only be used for payment of duty under the First Schedule to the Customs Tariff Act,\n",
      "1975. 4. **Monitoring and audit**: A monitoring and audit mechanism with an IT-based Risk Management\n",
      "System (RMS) will be put in place by the CBIC, Department of Revenue, to physically verify records\n",
      "on a sample basis. 5. **Output-Outcome framework**: A broad-level monitoring framework will be\n",
      "maintained and monitored at regular intervals. 6. **Inter-Ministerial Committee**: Residual issues\n",
      "related to the scheme will be considered by an Inter-Ministerial Committee (RODTEP Policy Committee,\n",
      "or RPC) chaired by DGFT, comprising members of Department of Commerce and Department of Revenue. 7.\n",
      "**Appendix 4R**: The eligible RoDTEP export items, rates, and per unit value mentioned in the\n",
      "appendix will be used for inclusion or exclusion under the scope of RoDTEP.  These guidelines\n",
      "outline the framework for the RoDTEP scheme, which aims to provide relief to exporters by refunding\n",
      "duties and taxes on exported products.\n"
     ]
    }
   ],
   "source": [
    "get_response(\"Explain the RDOTEP Guidelines\", chain)"
   ]
  },
  {
   "cell_type": "code",
   "execution_count": 23,
   "id": "6d655825-266c-4ba8-9105-1fe41eac3012",
   "metadata": {},
   "outputs": [
    {
     "name": "stdout",
     "output_type": "stream",
     "text": [
      "When exporting electronics, there are several things you should be aware of:  1. **Customs\n",
      "Regulations**: Ensure that your products fall under the correct category and comply with relevant\n",
      "customs regulations, such as those related to electronic documentation, export obligations, and\n",
      "duty-free imports.  2. **Export Obligations**: Familiarize yourself with any applicable export\n",
      "obligations, including Advance Authorization or Duty Free Import Authorization schemes.  3.\n",
      "**Foreign Trade Policy**: Understand the provisions of the Foreign Trade Policy, particularly\n",
      "regarding products manufactured or exported by units licensed as hundred percent Export Oriented\n",
      "Units (EOUs).  4. **Free Trade Zones and Special Economic Zones**: If your products are manufactured\n",
      "or exported from these zones, ensure compliance with relevant regulations and guidelines.  5.\n",
      "**Notification No. 32/1997- Customs**: Be aware of the specific requirements and restrictions\n",
      "related to this notification.  6. **Electronic Documentation**: Ensure that electronic\n",
      "documentation, such as ICEGATE EDI, is generated for exports where required.  7. **Verification of\n",
      "Declarations**: Be prepared for potential verification of your declarations by customs authorities\n",
      "in case of doubt or conflicting information.  8. **Classification and Tariff Rates**: Accurately\n",
      "classify your products under the relevant heading and pay the correct tariff rate, as specified in\n",
      "the provided context (e.g., 1.8% for certain electronic appliances).  9. **Duty Exemptions and\n",
      "Obligations**: Understand any duty exemptions or obligations related to your exports.  10.\n",
      "**Compliance with Local Regulations**: Ensure that your products comply with local regulations and\n",
      "standards, particularly if they are intended for use in specific countries or regions.  Please note\n",
      "that this is not an exhaustive list, and you should consult relevant authorities and experts to\n",
      "ensure complete compliance with all applicable regulations and requirements.\n"
     ]
    }
   ],
   "source": [
    "get_response(\"What are some of the things I have to keep in mind while exporting electronics\", chain)"
   ]
  },
  {
   "cell_type": "code",
   "execution_count": 25,
   "id": "89037cc2-5b04-482e-babe-b302e7b2416d",
   "metadata": {},
   "outputs": [
    {
     "name": "stdout",
     "output_type": "stream",
     "text": [
      "I don't know whether an Apple iPhone mobile can be exported to the USA under the provisions\n",
      "mentioned in the context. The information provided seems to focus on general guidelines for exports\n",
      "and does not specifically address products like electronic devices, especially those manufactured in\n",
      "India and destined for export to countries like the USA. If you're looking for specific guidance on\n",
      "exporting an Apple iPhone mobile to the USA, I would recommend consulting relevant trade regulations\n",
      "or customs documentation specific to that product and country.\n"
     ]
    }
   ],
   "source": [
    "get_response(\"What if i want to export a apple iphone mobile to USA\", chain)"
   ]
  },
  {
   "cell_type": "code",
   "execution_count": 30,
   "id": "9ecbf177-8869-4ad0-9f3e-d09d5725c498",
   "metadata": {},
   "outputs": [
    {
     "name": "stdout",
     "output_type": "stream",
     "text": [
      "If you want to export furniture, it's essential to comply with the relevant regulations and\n",
      "requirements.  Firstly, if your furniture contains any antimicrobial textile or other pesticide-\n",
      "related characteristics, you need to register it with the Environmental Protection Agency (EPA) as\n",
      "per mandatory requirement b).  Additionally, if your furniture is a wooden product, you need to\n",
      "comply with the formaldehyde emission limits established by the Toxic Substances Control Act (TSCA)\n",
      "Title VI. You are required to conduct testing of the product through a CPSCA affiliated lab and\n",
      "obtain a certificate from the Importer on Record.  Regarding export regulations, if your furniture\n",
      "is manufactured or exported under certain conditions, such as:  * Partly or wholly in a warehouse\n",
      "under section 65 of the Customs Act, 1962 * Manufactured or exported without discharge of export\n",
      "obligation against an Advance Authorization or Duty Free Import Authorization or Special Advance\n",
      "Authorization issued under a duty exemption scheme of relevant Foreign Trade Policy * Manufactured\n",
      "or exported by a unit licensed as a hundred percent Export Oriented Unit (EOU) in terms of the\n",
      "provisions of the Foreign Trade Policy * Manufactured or exported by units situated in Free Trade\n",
      "Zones or Export Processing Zones or Special Economic Zones * Manufactured or exported availing the\n",
      "benefit of Notification No. 32/1997- Customs dated 1st April, 1997. * Exports for which electronic\n",
      "documentation in ICEGATE EDI has not been generated or exports from non-EDI ports * Goods which have\n",
      "been taken into use after manufacture  You need to declare this information to the government and\n",
      "undergo verification by the proper customs officer.  Please note that these regulations may vary\n",
      "depending on the specific category of your furniture, as indicated in the Harmonized System (HS)\n",
      "codes provided. It's essential to check the relevant HS code for your product and consult with the\n",
      "relevant authorities to ensure compliance.  If you're unsure about any aspect of exporting\n",
      "furniture, I recommend consulting with a trade expert or seeking guidance from the relevant\n",
      "government agencies.\n"
     ]
    }
   ],
   "source": [
    "get_response(\"What if i want to export furniture\", chain)"
   ]
  },
  {
   "cell_type": "code",
   "execution_count": 38,
   "id": "0e9d5fbd-811a-4486-93de-6ca5a89906e1",
   "metadata": {},
   "outputs": [
    {
     "name": "stdout",
     "output_type": "stream",
     "text": [
      "Based on the provided context, here is a checklist for exporting furniture:\n",
      "\n",
      "**Compliance Requirements:**\n",
      "\n",
      "1. Check if the product falls under regulations as per Federal Hazardous Substances Act (FHSA) and comply with cautionary labeling requirements.\n",
      "2. Ensure that the product does not contain any antimicrobial textile or pesticide-related characteristics that require registration with the Environmental Protection Agency (EPA).\n",
      "3. Comply with Toxic Substances Control Act (TSCA) Title VI formaldehyde emission limits for wooden products. Conduct testing through a CPSCA affiliated lab and obtain a certificate from the Importer on Record.\n",
      "4. Verify if the product contains flame retardant chemicals in excess of 1.9% (as per EPA regulations). If yes, ensure compliance with state regulations or bans on such chemicals.\n",
      "\n",
      "**Additional Requirements:**\n",
      "\n",
      "1. **Labeling:** Ensure that the product bears necessary labels and warnings as required by FHSA.\n",
      "2. **Declaration:** Provide a declaration to the exporter stating that the product complies with all applicable regulations and labeling requirements.\n",
      "3. **Customs Declaration:** Furnish a declaration to the customs officer upon export, stating that the product is compliant with regulations and labeling requirements.\n",
      "\n",
      "**Storage and Safe Use:**\n",
      "\n",
      "1. Store the product in a safe and secure location, out of reach of children.\n",
      "2. Provide first aid instructions where applicable.\n",
      "\n",
      "Please note that this checklist is based on the provided context and may not be exhaustive. It's essential to consult relevant regulations and guidelines for specific compliance requirements.\n"
     ]
    }
   ],
   "source": [
    "get_response(\"Give me a checklist if i want to export furniture\", chain)"
   ]
  },
  {
   "cell_type": "code",
   "execution_count": 39,
   "id": "6187a844-3216-40f8-ab6b-f71ad7c753b1",
   "metadata": {},
   "outputs": [
    {
     "name": "stdout",
     "output_type": "stream",
     "text": [
      "The rates mentioned in the provided context are:\n",
      "\n",
      "1. 1.3% for Tariff Items 3303, 3304, 3305, and 3307.\n",
      "2. 2.9% for Tariff Item 030701 (in chilled or frozen form).\n",
      "3. 24.2% for Tariff Item 030801 (in chilled or frozen form).\n"
     ]
    }
   ],
   "source": [
    "get_response(\"What are the rates?\", chain)"
   ]
  },
  {
   "cell_type": "code",
   "execution_count": 41,
   "id": "cef7a195-e449-43ea-8027-a5d41e99ffb0",
   "metadata": {},
   "outputs": [
    {
     "name": "stdout",
     "output_type": "stream",
     "text": [
      "I don't have information on Tariff Item 3303. The provided context only covers a limited range of tariff items, and I couldn't find any mention of 3303 in the given data. If you need more comprehensive information or clarification, please provide additional context or details.\n"
     ]
    }
   ],
   "source": [
    "get_response(\"What are the rates?\", chain)"
   ]
  }
 ],
 "metadata": {
  "kernelspec": {
   "display_name": "Python 3 (ipykernel)",
   "language": "python",
   "name": "python3"
  },
  "language_info": {
   "codemirror_mode": {
    "name": "ipython",
    "version": 3
   },
   "file_extension": ".py",
   "mimetype": "text/x-python",
   "name": "python",
   "nbconvert_exporter": "python",
   "pygments_lexer": "ipython3",
   "version": "3.12.7"
  }
 },
 "nbformat": 4,
 "nbformat_minor": 5
}
